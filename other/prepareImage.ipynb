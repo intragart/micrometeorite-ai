{
 "cells": [
  {
   "cell_type": "code",
   "execution_count": null,
   "metadata": {},
   "outputs": [],
   "source": [
    "from modules.background_removal import background_removal as bgrv\n",
    "import modules.config as config\n",
    "import matplotlib.pyplot as plt\n",
    "import math\n",
    "import numpy as np\n",
    "import cv2\n",
    "import os"
   ]
  },
  {
   "cell_type": "code",
   "execution_count": null,
   "metadata": {},
   "outputs": [],
   "source": [
    "pictures = []\n",
    "pictures_labels = [\"original\", \"contour\", \"cutout\"]"
   ]
  },
  {
   "cell_type": "code",
   "execution_count": null,
   "metadata": {},
   "outputs": [],
   "source": [
    "pictures.append(cv2.imread(config.RAW_DATA+'/file.png', 1))"
   ]
  },
  {
   "cell_type": "code",
   "execution_count": null,
   "metadata": {},
   "outputs": [],
   "source": [
    "pictures.extend(bgrv(pictures[0], config.CONTOUR_MODEL))"
   ]
  },
  {
   "cell_type": "code",
   "execution_count": null,
   "metadata": {},
   "outputs": [],
   "source": [
    "plt.figure(figsize=(24, 6))\n",
    "\n",
    "for i in range(3):\n",
    "    plt.subplot(1,3,i+1)\n",
    "    plt.xticks([])\n",
    "    plt.yticks([])\n",
    "    plt.rc(\"font\", size=30)\n",
    "    plt.xlabel(pictures_labels[i], color=\"black\")\n",
    "    plt.imshow(pictures[i])\n",
    "\n",
    "plt.show()"
   ]
  },
  {
   "cell_type": "code",
   "execution_count": null,
   "metadata": {
    "tags": []
   },
   "outputs": [],
   "source": [
    "def cropToContent(pic, padding=5):\n",
    "\n",
    "    x_min = len(pic)\n",
    "    x_max = 0\n",
    "    y_min = len(pic[0])\n",
    "    y_max = 0\n",
    "\n",
    "    for y in range(len(pic)):\n",
    "        for x in range(len(pic[0])):\n",
    "            if pic[y][x][0] == 255 and \\\n",
    "            pic[y][x][1] == 255 and \\\n",
    "            pic[y][x][2] == 255:\n",
    "                continue\n",
    "            else:\n",
    "                if x < x_min:\n",
    "                    x_min = x \n",
    "\n",
    "                if x > x_max:\n",
    "                    x_max = x \n",
    "\n",
    "                if y < y_min:\n",
    "                    y_min = y \n",
    "\n",
    "                if y > y_max:\n",
    "                    y_max = y\n",
    "\n",
    "    content_height = y_max - y_min\n",
    "    content_width = x_max - x_min\n",
    "\n",
    "    space_top = 0\n",
    "    space_left = 0\n",
    "    square_pixels = 0\n",
    "\n",
    "    if content_width > content_height:\n",
    "\n",
    "        # additional padding top\n",
    "        space_top = math.floor((content_width - content_height) / 2)\n",
    "        square_pixels = x_max - x_min\n",
    "\n",
    "    elif content_width < content_height:\n",
    "\n",
    "        # additional padding left\n",
    "        space_left = math.floor((content_height - content_width) / 2)\n",
    "        square_pixels = y_max - y_min\n",
    "\n",
    "    # calculate padding pixels\n",
    "    pad_pixels = round(square_pixels * (padding / 100))\n",
    "\n",
    "    new_pic = []\n",
    "    new_pic_size = 2 * pad_pixels + square_pixels\n",
    "    y_padzone = space_top + pad_pixels\n",
    "    x_padzone = space_left + pad_pixels\n",
    "    y_max_content = space_top + pad_pixels + content_height\n",
    "    x_max_content = space_left+pad_pixels+content_width\n",
    "    y_offset = y_min-space_top-pad_pixels\n",
    "    x_offset = x_min-space_left-pad_pixels\n",
    "\n",
    "    for y in range(new_pic_size):\n",
    "\n",
    "        line_of_pixels = []\n",
    "\n",
    "        for x in range(new_pic_size):\n",
    "\n",
    "            if y >= y_padzone and x >= x_padzone and\\\n",
    "                y <= y_max_content and x <= x_max_content:\n",
    "\n",
    "                # add current pixel to line of pixels\n",
    "                line_of_pixels.append([pic[y+y_offset][x+x_offset][0],\\\n",
    "                pic[y+y_offset][x+x_offset][1],\\\n",
    "                pic[y+y_offset][x+x_offset][2]])\n",
    "\n",
    "            else:\n",
    "\n",
    "                # add white pixel\n",
    "                line_of_pixels.append([255,255,255])\n",
    "\n",
    "        new_pic.append(line_of_pixels)\n",
    "    \n",
    "    return np.array(new_pic)\n",
    "\n",
    "    plt.figure(figsize=(6, 6))\n",
    "\n",
    "    plt.subplot(1,1,1)\n",
    "    plt.xticks([])\n",
    "    plt.yticks([])\n",
    "    plt.rc(\"font\", size=30)\n",
    "    plt.xlabel(f\"cropToContent(pad:{padding})\", color=\"black\")\n",
    "    plt.imshow(new_pic)\n",
    "\n",
    "    plt.show()\n",
    "\n",
    "cropToContent(pictures[2], 5)"
   ]
  },
  {
   "cell_type": "code",
   "execution_count": null,
   "metadata": {},
   "outputs": [],
   "source": [
    "test = []\n",
    "test.append([0,0,0]) \n",
    "test.append([0,0,0]) \n",
    "test\n",
    "\n",
    "for i in cv2.COLOR:\n",
    "    print()"
   ]
  }
 ],
 "metadata": {
  "kernelspec": {
   "display_name": "Python 3",
   "language": "python",
   "name": "python3"
  },
  "language_info": {
   "codemirror_mode": {
    "name": "ipython",
    "version": 3
   },
   "file_extension": ".py",
   "mimetype": "text/x-python",
   "name": "python",
   "nbconvert_exporter": "python",
   "pygments_lexer": "ipython3",
   "version": "3.8.6"
  }
 },
 "nbformat": 4,
 "nbformat_minor": 4
}
