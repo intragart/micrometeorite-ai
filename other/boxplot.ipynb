{
 "cells": [
  {
   "cell_type": "code",
   "execution_count": null,
   "metadata": {},
   "outputs": [],
   "source": [
    "import os\n",
    "import cv2\n",
    "import numpy as np\n",
    "import matplotlib.pyplot as plt"
   ]
  },
  {
   "cell_type": "code",
   "execution_count": null,
   "metadata": {},
   "outputs": [],
   "source": [
    "# root path for training data\n",
    "root_path = \"\""
   ]
  },
  {
   "cell_type": "code",
   "execution_count": null,
   "metadata": {},
   "outputs": [],
   "source": [
    "# get all subdirs (labels) in root folder\n",
    "labels = [\"Kombiniert\"]\n",
    "\n",
    "for label in os.listdir(root_path):\n",
    "    if os.path.isdir(os.path.join(root_path, label)):\n",
    "        labels.append(label)\n",
    "\n",
    "labels"
   ]
  },
  {
   "cell_type": "code",
   "execution_count": null,
   "metadata": {},
   "outputs": [],
   "source": [
    "# loop through all subdirs and get picture width for all .jpg files\n",
    "picture_widths = []\n",
    "\n",
    "for label in labels:\n",
    "\n",
    "    if label == \"Kombiniert\":\n",
    "        continue\n",
    "\n",
    "    current_label_widths = []\n",
    "    current_path = os.path.join(root_path, label)\n",
    "\n",
    "    for current_file in os.listdir(current_path):\n",
    "        if current_file[-4:] == \".jpg\":\n",
    "\n",
    "            fullpath = os.path.join(current_path, current_file)\n",
    "\n",
    "            image = cv2.imread(fullpath)\n",
    "\n",
    "            try:\n",
    "                current_label_widths.append(image.shape[1])\n",
    "            except:\n",
    "                print(\"ERROR:\", fullpath)\n",
    "\n",
    "    picture_widths.append(current_label_widths)"
   ]
  },
  {
   "cell_type": "code",
   "execution_count": null,
   "metadata": {},
   "outputs": [],
   "source": [
    "combined_list = []\n",
    "for i in range(len(picture_widths)):\n",
    "    for value in picture_widths[i]:\n",
    "        combined_list.append(value)"
   ]
  },
  {
   "cell_type": "code",
   "execution_count": null,
   "metadata": {},
   "outputs": [],
   "source": [
    "plt.figure(figsize =(15, 3))\n",
    "plt.rc('font', size=13)\n",
    "bp_data = plt.boxplot((combined_list, picture_widths[0], picture_widths[1]), vert = 0)\n",
    "plt.yticks(range(1, len(labels) + 1), labels, rotation='horizontal')\n",
    "plt.grid(axis=\"x\")\n",
    "plt.show()"
   ]
  },
  {
   "cell_type": "code",
   "execution_count": null,
   "metadata": {},
   "outputs": [],
   "source": [
    "print(len(picture_widths[0]),len(picture_widths[1]),len(combined_list))"
   ]
  },
  {
   "cell_type": "code",
   "execution_count": null,
   "metadata": {},
   "outputs": [],
   "source": [
    "current_index = 0\n",
    "whiskers_index = 0\n",
    "\n",
    "\"\"\"\n",
    "print(\"whiskers\")\n",
    "[print(item.get_xdata()) for item in bp_data['whiskers']]\n",
    "\n",
    "print(\"boxes\")\n",
    "[print(item.get_xdata()) for item in bp_data['boxes']]\n",
    "\n",
    "print(\"medians\")\n",
    "[print(item.get_xdata()) for item in bp_data['medians']]\n",
    "\"\"\"\n",
    "\n",
    "print()\n",
    "\n",
    "for label in labels:\n",
    "\n",
    "    whiskers = list(bp_data[\"whiskers\"][whiskers_index].get_xdata())\n",
    "    [whiskers.append(item) for item in list(bp_data[\"whiskers\"][whiskers_index+1].get_xdata())]\n",
    "    whiskers.sort()\n",
    "\n",
    "    print(\"-----\",label,\"-----\")\n",
    "\n",
    "    print(\"Lower Whisker :\", whiskers[0])\n",
    "    print(\"25 % Quantil  :\", bp_data[\"boxes\"][current_index].get_xdata()[0])\n",
    "    print(\"Median        :\", bp_data[\"medians\"][current_index].get_xdata()[0])\n",
    "    print(\"75 % Quantil  :\", bp_data[\"boxes\"][current_index].get_xdata()[2])\n",
    "    print(\"Upper Whisker :\", whiskers[3])\n",
    "\n",
    "    print()\n",
    "    current_index += 1\n",
    "    whiskers_index += 2\n",
    "\n",
    "#[item.get_ydata() for item in data['whiskers']]\n",
    "#[print(item.get_xdata()) for item in bp_data['fliers']]"
   ]
  }
 ],
 "metadata": {
  "interpreter": {
   "hash": "8954a5446874c3e6dcca595665836a5a80634449647eb64bcab4af3ac6b40681"
  },
  "kernelspec": {
   "display_name": "Python 3",
   "language": "python",
   "name": "python3"
  },
  "language_info": {
   "codemirror_mode": {
    "name": "ipython",
    "version": 3
   },
   "file_extension": ".py",
   "mimetype": "text/x-python",
   "name": "python",
   "nbconvert_exporter": "python",
   "pygments_lexer": "ipython3",
   "version": "3.8.6"
  }
 },
 "nbformat": 4,
 "nbformat_minor": 4
}
