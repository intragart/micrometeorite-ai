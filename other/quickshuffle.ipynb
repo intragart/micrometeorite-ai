{
 "cells": [
  {
   "cell_type": "code",
   "execution_count": null,
   "metadata": {},
   "outputs": [],
   "source": [
    "import os\n",
    "import math\n",
    "import random\n",
    "import shutil"
   ]
  },
  {
   "cell_type": "code",
   "execution_count": null,
   "metadata": {},
   "outputs": [],
   "source": [
    "split_percent = 0.2\n",
    "my_class = \"negative\"\n",
    "root_path = \"C:/abc/\"+my_class\n",
    "dest_path = \"C:/def\""
   ]
  },
  {
   "cell_type": "code",
   "execution_count": null,
   "metadata": {
    "tags": []
   },
   "outputs": [],
   "source": [
    "myFiles = []\n",
    "\n",
    "for myFile in os.listdir(root_path):\n",
    "    myFiles.append(myFile)"
   ]
  },
  {
   "cell_type": "code",
   "execution_count": null,
   "metadata": {},
   "outputs": [],
   "source": [
    "random.shuffle(myFiles)\n",
    "random.shuffle(myFiles)\n",
    "random.shuffle(myFiles)"
   ]
  },
  {
   "cell_type": "code",
   "execution_count": null,
   "metadata": {},
   "outputs": [],
   "source": [
    "split_index = math.ceil(len(myFiles) * (1-split_percent))\n",
    "print(split_index)"
   ]
  },
  {
   "cell_type": "code",
   "execution_count": null,
   "metadata": {},
   "outputs": [],
   "source": [
    "def my_copy_file(my_file, p_src, p_dst):\n",
    "    os.makedirs(p_dst, exist_ok=True)\n",
    "    shutil.copyfile(os.path.join(p_src, my_file), os.path.join(p_dst, my_file))"
   ]
  },
  {
   "cell_type": "code",
   "execution_count": null,
   "metadata": {},
   "outputs": [],
   "source": [
    "for entry in myFiles[0:split_index]:\n",
    "    my_copy_file(entry, root_path, dest_path+\"/train/\"+my_class)\n",
    "\n",
    "for entry in myFiles[split_index:]:\n",
    "    my_copy_file(entry, root_path, dest_path+\"/test/\"+my_class)"
   ]
  }
 ],
 "metadata": {
  "interpreter": {
   "hash": "8954a5446874c3e6dcca595665836a5a80634449647eb64bcab4af3ac6b40681"
  },
  "kernelspec": {
   "display_name": "Python 3",
   "language": "python",
   "name": "python3"
  },
  "language_info": {
   "codemirror_mode": {
    "name": "ipython",
    "version": 3
   },
   "file_extension": ".py",
   "mimetype": "text/x-python",
   "name": "python",
   "nbconvert_exporter": "python",
   "pygments_lexer": "ipython3",
   "version": "3.8.6"
  }
 },
 "nbformat": 4,
 "nbformat_minor": 4
}
