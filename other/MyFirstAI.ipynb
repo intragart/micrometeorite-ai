{
 "cells": [
  {
   "cell_type": "code",
   "execution_count": null,
   "id": "illegal-brass",
   "metadata": {},
   "outputs": [],
   "source": [
    "# https://www.tensorflow.org/tutorials/keras/classification"
   ]
  },
  {
   "cell_type": "code",
   "execution_count": null,
   "id": "bacterial-criticism",
   "metadata": {},
   "outputs": [],
   "source": [
    "# TensorFlow and tf.keras\n",
    "import tensorflow as tf\n",
    "\n",
    "# Helper libraries\n",
    "import numpy as np\n",
    "import matplotlib.pyplot as plt\n",
    "\n",
    "print(tf.__version__)"
   ]
  },
  {
   "cell_type": "code",
   "execution_count": null,
   "id": "optional-committee",
   "metadata": {},
   "outputs": [],
   "source": [
    "# create mnist-object\n",
    "fashion_mnist = tf.keras.datasets.fashion_mnist\n",
    "\n",
    "# download data and save it into multidimensional numpy-arrays\n",
    "(train_images, train_labels), (test_images, test_labels) = fashion_mnist.load_data()"
   ]
  },
  {
   "cell_type": "code",
   "execution_count": null,
   "id": "molecular-accordance",
   "metadata": {},
   "outputs": [],
   "source": [
    "type(train_images[0])"
   ]
  },
  {
   "cell_type": "code",
   "execution_count": null,
   "id": "military-admission",
   "metadata": {},
   "outputs": [],
   "source": [
    "# save class names 0 to 9\n",
    "class_names = ['T-shirt/top', 'Trouser', 'Pullover', 'Dress', 'Coat',\n",
    "               'Sandal', 'Shirt', 'Sneaker', 'Bag', 'Ankle boot']"
   ]
  },
  {
   "cell_type": "code",
   "execution_count": null,
   "id": "congressional-engineering",
   "metadata": {},
   "outputs": [],
   "source": [
    "# shows that 60.000 28x28 images are loaded\n",
    "train_images.shape"
   ]
  },
  {
   "cell_type": "code",
   "execution_count": null,
   "id": "prepared-closing",
   "metadata": {},
   "outputs": [],
   "source": [
    "# shows that the label-set holds 60.000 labels\n",
    "len(train_labels)"
   ]
  },
  {
   "cell_type": "code",
   "execution_count": null,
   "id": "hybrid-numbers",
   "metadata": {},
   "outputs": [],
   "source": [
    "# show verificaton dataset\n",
    "test_images.shape\n",
    "# len(test_labels) # returns 10000"
   ]
  },
  {
   "cell_type": "code",
   "execution_count": null,
   "id": "statistical-wings",
   "metadata": {},
   "outputs": [],
   "source": [
    "plt.figure()\n",
    "plt.imshow(train_images[1])\n",
    "plt.colorbar()\n",
    "plt.grid(False)\n",
    "plt.show()"
   ]
  },
  {
   "cell_type": "code",
   "execution_count": null,
   "id": "individual-diagnosis",
   "metadata": {},
   "outputs": [],
   "source": [
    "# reducing the color-values to an value between 0 and 1\n",
    "# it's very important to prepare the training and test dataset the same way\n",
    "train_images = train_images / 255.0\n",
    "test_images = test_images / 255.0"
   ]
  },
  {
   "cell_type": "code",
   "execution_count": null,
   "id": "square-difficulty",
   "metadata": {},
   "outputs": [],
   "source": [
    "# verify preperation\n",
    "plt.figure(figsize=(10,10))\n",
    "for i in range(25):\n",
    "    plt.subplot(5,5,i+1)\n",
    "    plt.xticks([])\n",
    "    plt.yticks([])\n",
    "    plt.grid(False)\n",
    "    plt.imshow(train_images[i], cmap=plt.cm.binary)\n",
    "    plt.xlabel(class_names[train_labels[i]], color=\"white\")\n",
    "plt.show()"
   ]
  },
  {
   "cell_type": "code",
   "execution_count": null,
   "id": "liquid-excerpt",
   "metadata": {},
   "outputs": [],
   "source": [
    "# configuring the layers of the model\n",
    "model = tf.keras.Sequential([\n",
    "    # write the multidimensional arrays into one simple array - just preparing, not learning\n",
    "    tf.keras.layers.Flatten(input_shape=(28, 28)),\n",
    "    # create densely (= fully) connected neural layers\n",
    "    # this layer has 128 nodes (= neurons)\n",
    "    tf.keras.layers.Dense(128, activation='relu'),\n",
    "    # this last layer has 10 nodes, each for one category\n",
    "    tf.keras.layers.Dense(10)\n",
    "])"
   ]
  },
  {
   "cell_type": "code",
   "execution_count": null,
   "id": "subjective-light",
   "metadata": {},
   "outputs": [],
   "source": [
    "# compiling the model\n",
    "\n",
    "# Loss function —This measures how accurate the model is during training. You want\n",
    "# to minimize this function to \"steer\" the model in the right direction.\n",
    "\n",
    "# Optimizer —This is how the model is updated based on the data it sees and its\n",
    "# loss function.\n",
    "\n",
    "# Metrics —Used to monitor the training and testing steps. The following example\n",
    "# uses accuracy, the fraction of the images that are correctly classified.\n",
    "\n",
    "model.compile(optimizer='adam',\n",
    "              loss=tf.keras.losses.SparseCategoricalCrossentropy(from_logits=True),\n",
    "              metrics=['accuracy'])"
   ]
  },
  {
   "cell_type": "code",
   "execution_count": null,
   "id": "introductory-tamil",
   "metadata": {},
   "outputs": [],
   "source": [
    "# train the model by feeding the training data into it. The model learns to\n",
    "# associate images and labels\n",
    "model.fit(train_images, train_labels, epochs=10)"
   ]
  },
  {
   "cell_type": "code",
   "execution_count": null,
   "id": "broadband-compromise",
   "metadata": {},
   "outputs": [],
   "source": [
    "# evaluate accuracy by testing the model against the test dataset\n",
    "test_loss, test_acc = model.evaluate(test_images,  test_labels, verbose=2)\n",
    "\n",
    "print('\\nTest accuracy:', test_acc)"
   ]
  },
  {
   "cell_type": "code",
   "execution_count": null,
   "id": "racial-joining",
   "metadata": {},
   "outputs": [],
   "source": [
    "# Make predictions\n",
    "# With the model trained, you can use it to make predictions about\n",
    "# some images. The model's linear outputs, logits. Attach a softmax\n",
    "# layer to convert the logits to probabilities, which are easier to interpret.\n",
    "probability_model = tf.keras.Sequential([model, \n",
    "                                         tf.keras.layers.Softmax()])\n",
    "predictions = probability_model.predict(test_images)"
   ]
  },
  {
   "cell_type": "code",
   "execution_count": null,
   "id": "fleet-lambda",
   "metadata": {},
   "outputs": [],
   "source": [
    "# show the first prediction\n",
    "predictions[1]\n",
    "# the numbers are showing the confidence of the model for every category"
   ]
  },
  {
   "cell_type": "code",
   "execution_count": null,
   "id": "exceptional-temperature",
   "metadata": {},
   "outputs": [],
   "source": [
    "# show the label with the highest confidence\n",
    "np.argmax(predictions[1])"
   ]
  },
  {
   "cell_type": "code",
   "execution_count": null,
   "id": "willing-vatican",
   "metadata": {},
   "outputs": [],
   "source": [
    "# check prediction\n",
    "test_labels[1]"
   ]
  },
  {
   "cell_type": "code",
   "execution_count": null,
   "id": "complicated-facing",
   "metadata": {},
   "outputs": [],
   "source": [
    "# Graph this to look at the full set of 10 class predictions.\n",
    "def plot_image(i, predictions_array, true_label, img):\n",
    "  true_label, img = true_label[i], img[i]\n",
    "  plt.grid(False)\n",
    "  plt.xticks([])\n",
    "  plt.yticks([])\n",
    "\n",
    "  plt.imshow(img, cmap=plt.cm.binary)\n",
    "\n",
    "  predicted_label = np.argmax(predictions_array)\n",
    "  if predicted_label == true_label:\n",
    "    color = 'blue'\n",
    "  else:\n",
    "    color = 'red'\n",
    "\n",
    "  plt.xlabel(\"{} {:2.0f}% ({})\".format(class_names[predicted_label],\n",
    "                                100*np.max(predictions_array),\n",
    "                                class_names[true_label]),\n",
    "                                color=color)\n",
    "\n",
    "def plot_value_array(i, predictions_array, true_label):\n",
    "  true_label = true_label[i]\n",
    "  plt.grid(False)\n",
    "  plt.xticks(range(10))\n",
    "  plt.yticks([])\n",
    "  thisplot = plt.bar(range(10), predictions_array, color=\"#777777\")\n",
    "  plt.ylim([0, 1])\n",
    "  predicted_label = np.argmax(predictions_array)\n",
    "\n",
    "  thisplot[predicted_label].set_color('red')\n",
    "  thisplot[true_label].set_color('blue')"
   ]
  },
  {
   "cell_type": "code",
   "execution_count": null,
   "id": "beautiful-terminology",
   "metadata": {},
   "outputs": [],
   "source": [
    "# Plot the first X test images, their predicted labels, and the true labels.\n",
    "# Color correct predictions in blue and incorrect predictions in red.\n",
    "num_rows = 6\n",
    "num_cols = 3\n",
    "num_images = num_rows*num_cols\n",
    "plt.figure(figsize=(2*2*num_cols, 2*num_rows))\n",
    "for i in range(num_images):\n",
    "  plt.subplot(num_rows, 2*num_cols, 2*i+1)\n",
    "  plot_image(i, predictions[i], test_labels, test_images)\n",
    "  plt.subplot(num_rows, 2*num_cols, 2*i+2)\n",
    "  plot_value_array(i, predictions[i], test_labels)\n",
    "plt.tight_layout()\n",
    "plt.show()"
   ]
  },
  {
   "cell_type": "code",
   "execution_count": null,
   "id": "narrative-contrary",
   "metadata": {},
   "outputs": [],
   "source": []
  }
 ],
 "metadata": {
  "kernelspec": {
   "display_name": "Python 3",
   "language": "python",
   "name": "python3"
  },
  "language_info": {
   "codemirror_mode": {
    "name": "ipython",
    "version": 3
   },
   "file_extension": ".py",
   "mimetype": "text/x-python",
   "name": "python",
   "nbconvert_exporter": "python",
   "pygments_lexer": "ipython3",
   "version": "3.8.6"
  }
 },
 "nbformat": 4,
 "nbformat_minor": 5
}