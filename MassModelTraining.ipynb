{
 "cells": [
  {
   "cell_type": "code",
   "execution_count": null,
   "id": "corporate-brighton",
   "metadata": {},
   "outputs": [],
   "source": [
    "# import libraries\n",
    "import tensorflow as tf # for modell training\n",
    "import matplotlib.pyplot as plt # to show graphical results\n",
    "from matplotlib.ticker import MaxNLocator"
   ]
  },
  {
   "cell_type": "code",
   "execution_count": null,
   "id": "initial-uncle",
   "metadata": {},
   "outputs": [],
   "source": [
    "# own modules\n",
    "import modules.config as config\n",
    "from modules.ai_dataset import ai_dataset\n",
    "from modules.export_trained_model import export_trained_model"
   ]
  },
  {
   "cell_type": "code",
   "execution_count": null,
   "id": "robust-thinking",
   "metadata": {},
   "outputs": [],
   "source": [
    "# import training and testing data\n",
    "test_data = ai_dataset(config.TEST_DATA, config.IMG_SIZE, True)\n",
    "training_data = ai_dataset(config.TRAINING_DATA, config.IMG_SIZE, True)"
   ]
  },
  {
   "cell_type": "code",
   "execution_count": null,
   "id": "military-equation",
   "metadata": {
    "tags": []
   },
   "outputs": [],
   "source": [
    "training_data.get_status()"
   ]
  },
  {
   "cell_type": "code",
   "execution_count": null,
   "id": "available-karma",
   "metadata": {},
   "outputs": [],
   "source": [
    "test_data.get_status()"
   ]
  },
  {
   "cell_type": "code",
   "execution_count": null,
   "id": "cellular-freeze",
   "metadata": {},
   "outputs": [],
   "source": [
    "# show an image from the training data\n",
    "plt.figure()\n",
    "plt.imshow(training_data.get_image(0))\n",
    "plt.colorbar()\n",
    "plt.grid(False)\n",
    "plt.show()"
   ]
  },
  {
   "cell_type": "code",
   "execution_count": null,
   "id": "ecological-concept",
   "metadata": {},
   "outputs": [],
   "source": [
    "# verify preperation\n",
    "plt.figure(figsize=(10,10))\n",
    "for i in range(25):\n",
    "    plt.subplot(5,5,i+1)\n",
    "    plt.xticks([])\n",
    "    plt.yticks([])\n",
    "    plt.grid(False)\n",
    "    plt.imshow(training_data.get_image(i))\n",
    "    plt.xlabel(training_data.get_label(i), color=\"blue\")\n",
    "plt.show()"
   ]
  },
  {
   "cell_type": "code",
   "execution_count": null,
   "id": "global-bangkok",
   "metadata": {},
   "outputs": [],
   "source": [
    "# validate what hardware tf.keras is using for computing\n",
    "tf.config.list_physical_devices()"
   ]
  },
  {
   "cell_type": "code",
   "execution_count": null,
   "id": "specific-saturn",
   "metadata": {},
   "outputs": [],
   "source": [
    "# Create the convolutional base\n",
    "model = tf.keras.models.Sequential(name=\"tf_model\")\n",
    "model.add(tf.keras.layers.Conv2D(32, (3, 3), activation='relu', input_shape=(config.IMG_SIZE, config.IMG_SIZE, 3)))\n",
    "model.add(tf.keras.layers.MaxPooling2D((2, 2)))\n",
    "model.add(tf.keras.layers.Conv2D(64, (3, 3), activation='relu'))\n",
    "model.add(tf.keras.layers.MaxPooling2D((2, 2)))\n",
    "model.add(tf.keras.layers.Conv2D(64, (3, 3), activation='relu'))\n",
    "\n",
    "# Add Dense layers on top\n",
    "model.add(tf.keras.layers.Flatten())\n",
    "model.add(tf.keras.layers.Dense(64, activation='relu'))\n",
    "model.add(tf.keras.layers.Dense(training_data.get_labels_count()))\n",
    "\n",
    "# Compile the model\n",
    "model.compile(optimizer='adam',\n",
    "              loss=tf.keras.losses.SparseCategoricalCrossentropy(from_logits=True),\n",
    "              metrics=['accuracy'])"
   ]
  },
  {
   "cell_type": "code",
   "execution_count": null,
   "id": "rising-delay",
   "metadata": {},
   "outputs": [],
   "source": [
    "# Create multiple runs\n",
    "histories = []\n",
    "test_accs = []\n",
    "runs = []\n",
    "run_counter = 0\n",
    "for i in range(1,config.TRAINING_EPOCHS+1):\n",
    "    print(\"Run: \" + str(i))\n",
    "    run_counter+=1\n",
    "\n",
    "    # train the model with variating epoch-count\n",
    "    history = model.fit(training_data.get_tf_images(), training_data.get_tf_labels(), epochs=1, \n",
    "                validation_data=(test_data.get_tf_images(), test_data.get_tf_labels()))\n",
    "\n",
    "    # Plot learning curve\n",
    "    fig = plt.figure()\n",
    "    ax1 = fig.add_subplot()\n",
    "    ax2 = ax1.twinx()\n",
    "    ax1.plot(history.history[\"accuracy\"], label = \"accuracy\", color = \"k\")\n",
    "    ax1.plot(history.history[\"val_accuracy\"], label = \"val_accuracy\", color = \"g\")\n",
    "    ax2.plot(history.history[\"loss\"], label = \"loss\", color = \"r\")\n",
    "    ax2.plot(history.history[\"val_loss\"], label = \"val_loss\", color = \"y\")\n",
    "    ax1.set_xlabel(\"Epoch\")\n",
    "    ax1.xaxis.set_major_locator(MaxNLocator(integer=True))\n",
    "    ax1.set_ylabel(\"Accuracy\")\n",
    "    ax2.set_ylabel(\"Loss\")\n",
    "    fig.legend(loc=\"upper center\", bbox_to_anchor=(0.5, 1., 0., 0.), ncol=4)\n",
    "\n",
    "    # evaluate model\n",
    "    test_loss, test_acc = model.evaluate(test_data.get_tf_images(), test_data.get_tf_labels(), verbose=2)\n",
    "\n",
    "    export_trained_model(model, i, test_loss, test_acc, history, fig, training_data, config.MODEL_PATH)\n",
    "\n",
    "    histories.append(history.history[\"accuracy\"][-1])\n",
    "    test_accs.append(test_acc)\n",
    "    runs.append(run_counter)"
   ]
  },
  {
   "cell_type": "code",
   "execution_count": null,
   "id": "dated-contents",
   "metadata": {},
   "outputs": [],
   "source": [
    "plt.plot(runs, histories, \"k\", linestyle = \"solid\", label = \"model.fit\")\n",
    "plt.plot(runs, test_accs, \"k\", linestyle = \"dotted\", label = \"model.evaluate\")\n",
    "plt.title(\"Overfitting Analysis\")\n",
    "plt.ylabel(\"Accuracy\")\n",
    "plt.xlabel(\"Number of Epochs\")\n",
    "plt.legend()\n",
    "plt.xlim([1, run_counter])\n",
    "plt.savefig(config.MODEL_PATH+\"/overfitting_analysis.png\", dpi=100, transparent=False, facecolor=\"w\")"
   ]
  }
 ],
 "metadata": {
  "kernelspec": {
   "display_name": "Python 3",
   "language": "python",
   "name": "python3"
  },
  "language_info": {
   "codemirror_mode": {
    "name": "ipython",
    "version": 3
   },
   "file_extension": ".py",
   "mimetype": "text/x-python",
   "name": "python",
   "nbconvert_exporter": "python",
   "pygments_lexer": "ipython3",
   "version": "3.8.6"
  }
 },
 "nbformat": 4,
 "nbformat_minor": 5
}