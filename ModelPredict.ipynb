{
 "cells": [
  {
   "cell_type": "code",
   "execution_count": null,
   "id": "f8e0e857",
   "metadata": {},
   "outputs": [],
   "source": [
    "import tensorflow as tf\n",
    "import matplotlib.pyplot as plt # to show graphical results\n",
    "import re\n",
    "import os"
   ]
  },
  {
   "cell_type": "code",
   "execution_count": null,
   "id": "b3aaa615",
   "metadata": {},
   "outputs": [],
   "source": [
    "# own modules\n",
    "import modules.config as config\n",
    "from modules.load_model import load_model\n",
    "from modules.load_predict_data import load_predict_data"
   ]
  },
  {
   "cell_type": "code",
   "execution_count": null,
   "id": "aab64727",
   "metadata": {},
   "outputs": [],
   "source": [
    "# set constants\n",
    "MODEL_NAME = re.search(r\"\\/([A-Za-z0-9_-]{1,})\\.zip\", config.TRAINED_MODEL)"
   ]
  },
  {
   "cell_type": "code",
   "execution_count": null,
   "id": "f9068b3b",
   "metadata": {},
   "outputs": [],
   "source": [
    "model, label, tensorshape = load_model(config.TRAINED_MODEL)"
   ]
  },
  {
   "cell_type": "code",
   "execution_count": null,
   "metadata": {},
   "outputs": [],
   "source": [
    "type(tensorshape[1])"
   ]
  },
  {
   "cell_type": "code",
   "execution_count": null,
   "metadata": {},
   "outputs": [],
   "source": [
    "config.PREDICT_DATA"
   ]
  },
  {
   "cell_type": "code",
   "execution_count": null,
   "id": "dbc385ce",
   "metadata": {},
   "outputs": [],
   "source": [
    "predict_me, predict_file, predict_file_name = load_predict_data(config.PREDICT_DATA, tensorshape[1], tensorshape[2])\n",
    "len(predict_me)"
   ]
  },
  {
   "cell_type": "code",
   "execution_count": null,
   "id": "fe8d2a9f",
   "metadata": {},
   "outputs": [],
   "source": [
    "model"
   ]
  },
  {
   "cell_type": "code",
   "execution_count": null,
   "id": "643c8b4e",
   "metadata": {},
   "outputs": [],
   "source": [
    "label"
   ]
  },
  {
   "cell_type": "code",
   "execution_count": null,
   "id": "29a44039",
   "metadata": {},
   "outputs": [],
   "source": [
    "prob_model = tf.keras.Sequential([model, tf.keras.layers.Softmax()])"
   ]
  },
  {
   "cell_type": "code",
   "execution_count": null,
   "id": "2295aa50",
   "metadata": {},
   "outputs": [],
   "source": [
    "predictions = prob_model.predict(predict_me)"
   ]
  },
  {
   "cell_type": "code",
   "execution_count": null,
   "id": "effdd46b",
   "metadata": {},
   "outputs": [],
   "source": [
    "predictions[0]"
   ]
  },
  {
   "cell_type": "code",
   "execution_count": null,
   "id": "6db94a2c",
   "metadata": {},
   "outputs": [],
   "source": [
    "len(label)"
   ]
  },
  {
   "cell_type": "code",
   "execution_count": null,
   "metadata": {},
   "outputs": [],
   "source": [
    "if not os.path.exists(os.path.join(config.PREDICT_RESULTS,MODEL_NAME.group(1))):\n",
    "        os.makedirs(os.path.join(config.PREDICT_RESULTS,MODEL_NAME.group(1)), exist_ok=True)"
   ]
  },
  {
   "cell_type": "code",
   "execution_count": null,
   "id": "33161e93",
   "metadata": {},
   "outputs": [],
   "source": [
    "for i in range(len(predict_me)):\n",
    "    current_prediction = list(label.keys())[list(label.values()).index(predictions[i].argmax())]\n",
    "\n",
    "    fig = plt.figure(figsize=(6, 8), facecolor=\"white\")    \n",
    "    fig.suptitle(f\"Prediction {i+1}: {current_prediction}\\n\")\n",
    "    fig.text(0.1, 0.93, f\"Model: {MODEL_NAME.group(1)}\")\n",
    "    fig.text(0.1, 0.91, f\"File: {predict_file_name[i]}\")\n",
    "    \n",
    "    pic = fig.add_subplot(2,1,1)\n",
    "    pic.axes.xaxis.set_ticks([])\n",
    "    pic.axes.yaxis.set_ticks([])\n",
    "    pic.imshow(predict_file[i])\n",
    "    \n",
    "    colrs = []\n",
    "    for j in range(len(label)):\n",
    "        if j == predictions[i].argmax():\n",
    "            colrs.append(\"#DF2020\")\n",
    "        else:\n",
    "            colrs.append(\"grey\")\n",
    "    \n",
    "    hist = fig.add_subplot(2,1,2)\n",
    "    hist.bar(list(label.keys()), predictions[i], color=colrs)\n",
    "    hist.set_ylabel(\"Confidence\")\n",
    "    hist.set_ylim([0,1])\n",
    "\n",
    "    fig.savefig(f\"{config.PREDICT_RESULTS}/{MODEL_NAME.group(1)}/pred_{predict_file_name[i]}_{current_prediction}.png\", dpi=100, transparent=False, facecolor=\"w\")"
   ]
  }
 ],
 "metadata": {
  "kernelspec": {
   "name": "python386jvsc74a57bd08954a5446874c3e6dcca595665836a5a80634449647eb64bcab4af3ac6b40681",
   "display_name": "Python 3.8.6 64-bit"
  },
  "language_info": {
   "codemirror_mode": {
    "name": "ipython",
    "version": 3
   },
   "file_extension": ".py",
   "mimetype": "text/x-python",
   "name": "python",
   "nbconvert_exporter": "python",
   "pygments_lexer": "ipython3",
   "version": "3.8.6"
  }
 },
 "nbformat": 4,
 "nbformat_minor": 5
}