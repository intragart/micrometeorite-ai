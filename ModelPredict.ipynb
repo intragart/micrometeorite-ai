{
 "cells": [
  {
   "cell_type": "code",
   "execution_count": null,
   "id": "moved-fashion",
   "metadata": {},
   "outputs": [],
   "source": [
    "import tensorflow as tf\n",
    "import matplotlib.pyplot as plt # to show graphical results\n",
    "import re\n",
    "import os"
   ]
  },
  {
   "cell_type": "code",
   "execution_count": null,
   "id": "dressed-bacteria",
   "metadata": {},
   "outputs": [],
   "source": [
    "# own modules\n",
    "import modules.config as config\n",
    "from modules.load_model import load_model\n",
    "from modules.load_predict_data import load_predict_data"
   ]
  },
  {
   "cell_type": "code",
   "execution_count": null,
   "id": "loose-duncan",
   "metadata": {},
   "outputs": [],
   "source": [
    "# set constants\n",
    "MODEL_NAME = re.search(r\"\\/([A-Za-z0-9_-]{1,})\\.zip\", config.TRAINED_MODEL)"
   ]
  },
  {
   "cell_type": "code",
   "execution_count": null,
   "id": "defined-pleasure",
   "metadata": {},
   "outputs": [],
   "source": [
    "model, label, tensorshape = load_model(config.TRAINED_MODEL)"
   ]
  },
  {
   "cell_type": "code",
   "execution_count": null,
   "id": "failing-ebony",
   "metadata": {},
   "outputs": [],
   "source": [
    "type(tensorshape[1])"
   ]
  },
  {
   "cell_type": "code",
   "execution_count": null,
   "id": "complete-strike",
   "metadata": {},
   "outputs": [],
   "source": [
    "config.PREDICT_DATA"
   ]
  },
  {
   "cell_type": "code",
   "execution_count": null,
   "id": "reduced-coach",
   "metadata": {},
   "outputs": [],
   "source": [
    "predict_me, predict_file, predict_file_name = load_predict_data(config.PREDICT_DATA, tensorshape[1], tensorshape[2])\n",
    "len(predict_me)"
   ]
  },
  {
   "cell_type": "code",
   "execution_count": null,
   "id": "miniature-nashville",
   "metadata": {},
   "outputs": [],
   "source": [
    "model"
   ]
  },
  {
   "cell_type": "code",
   "execution_count": null,
   "id": "signed-course",
   "metadata": {},
   "outputs": [],
   "source": [
    "label"
   ]
  },
  {
   "cell_type": "code",
   "execution_count": null,
   "id": "graphic-retention",
   "metadata": {},
   "outputs": [],
   "source": [
    "prob_model = tf.keras.Sequential([model, tf.keras.layers.Softmax()])"
   ]
  },
  {
   "cell_type": "code",
   "execution_count": null,
   "id": "interior-passage",
   "metadata": {},
   "outputs": [],
   "source": [
    "predictions = prob_model.predict(predict_me)"
   ]
  },
  {
   "cell_type": "code",
   "execution_count": null,
   "id": "prepared-circumstances",
   "metadata": {},
   "outputs": [],
   "source": [
    "predictions[0]"
   ]
  },
  {
   "cell_type": "code",
   "execution_count": null,
   "id": "historic-leone",
   "metadata": {},
   "outputs": [],
   "source": [
    "len(label)"
   ]
  },
  {
   "cell_type": "code",
   "execution_count": null,
   "id": "armed-bobby",
   "metadata": {},
   "outputs": [],
   "source": [
    "if not os.path.exists(os.path.join(config.PREDICT_RESULTS,MODEL_NAME.group(1))):\n",
    "        os.makedirs(os.path.join(config.PREDICT_RESULTS,MODEL_NAME.group(1)), exist_ok=True)"
   ]
  },
  {
   "cell_type": "code",
   "execution_count": null,
   "id": "arbitrary-tampa",
   "metadata": {},
   "outputs": [],
   "source": [
    "for i in range(len(predict_me)):\n",
    "    current_prediction = list(label.keys())[list(label.values()).index(predictions[i].argmax())]\n",
    "\n",
    "    fig = plt.figure(figsize=(6, 8), facecolor=\"white\")    \n",
    "    fig.suptitle(f\"Prediction {i+1}: {current_prediction}\\n\")\n",
    "    fig.text(0.1, 0.93, f\"Model: {MODEL_NAME.group(1)}\")\n",
    "    fig.text(0.1, 0.91, f\"File: {predict_file_name[i]}\")\n",
    "    \n",
    "    pic = fig.add_subplot(2,1,1)\n",
    "    pic.axes.xaxis.set_ticks([])\n",
    "    pic.axes.yaxis.set_ticks([])\n",
    "    pic.imshow(predict_file[i])\n",
    "    \n",
    "    colrs = []\n",
    "    for j in range(len(label)):\n",
    "        if j == predictions[i].argmax():\n",
    "            colrs.append(\"#DF2020\")\n",
    "        else:\n",
    "            colrs.append(\"grey\")\n",
    "    \n",
    "    hist = fig.add_subplot(2,1,2)\n",
    "    hist.bar(list(label.keys()), predictions[i], color=colrs)\n",
    "    hist.set_ylabel(\"Confidence\")\n",
    "    hist.set_ylim([0,1])\n",
    "\n",
    "    fig.savefig(f\"{config.PREDICT_RESULTS}/{MODEL_NAME.group(1)}/pred_{predict_file_name[i]}_{current_prediction}.png\", dpi=100, transparent=False, facecolor=\"w\")"
   ]
  }
 ],
 "metadata": {
  "kernelspec": {
   "display_name": "Python 3",
   "language": "python",
   "name": "python3"
  },
  "language_info": {
   "codemirror_mode": {
    "name": "ipython",
    "version": 3
   },
   "file_extension": ".py",
   "mimetype": "text/x-python",
   "name": "python",
   "nbconvert_exporter": "python",
   "pygments_lexer": "ipython3",
   "version": "3.8.6"
  }
 },
 "nbformat": 4,
 "nbformat_minor": 5
}
